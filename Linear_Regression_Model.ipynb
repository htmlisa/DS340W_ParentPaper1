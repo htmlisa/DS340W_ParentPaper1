{
 "cells": [
  {
   "cell_type": "code",
   "execution_count": 1,
   "metadata": {
    "executionInfo": {
     "elapsed": 17776,
     "status": "ok",
     "timestamp": 1737916188070,
     "user": {
      "displayName": "Amiera Masheetah Binti Irwan Rizalman",
      "userId": "17710920489463743070"
     },
     "user_tz": 300
    },
    "id": "5NFkEvS527B9"
   },
   "outputs": [],
   "source": [
    "import pandas as pd\n",
    "import numpy as np\n",
    "import seaborn as sb\n",
    "from sklearn import metrics\n",
    "import matplotlib.pyplot as plt\n",
    "from sklearn.linear_model import LinearRegression\n",
    "from scipy.stats import skew\n",
    "from sklearn.model_selection import train_test_split,cross_val_score,GridSearchCV\n",
    "from sklearn.metrics import confusion_matrix, classification_report, mean_squared_error, accuracy_score, r2_score, f1_score,\\\n",
    "roc_auc_score,mean_absolute_error,mean_absolute_percentage_error,max_error"
   ]
  },
  {
   "cell_type": "code",
   "execution_count": 2,
   "metadata": {
    "executionInfo": {
     "elapsed": 668,
     "status": "ok",
     "timestamp": 1737916188734,
     "user": {
      "displayName": "Amiera Masheetah Binti Irwan Rizalman",
      "userId": "17710920489463743070"
     },
     "user_tz": 300
    },
    "id": "kdQV_xok27B-"
   },
   "outputs": [],
   "source": [
    "data_fin_imprt=pd.read_csv(\"final.csv\",  delimiter=',')\n"
   ]
  },
  {
   "cell_type": "code",
   "execution_count": null,
   "metadata": {
    "colab": {
     "base_uri": "https://localhost:8080/",
     "height": 478
    },
    "executionInfo": {
     "elapsed": 216,
     "status": "ok",
     "timestamp": 1737916188948,
     "user": {
      "displayName": "Amiera Masheetah Binti Irwan Rizalman",
      "userId": "17710920489463743070"
     },
     "user_tz": 300
    },
    "id": "NvaYHdQT27B_",
    "outputId": "449757ae-2da0-492a-92ca-4acf3eceb6b5"
   },
   "outputs": [
    {
     "data": {
      "text/html": [
       "<div>\n",
       "<style scoped>\n",
       "    .dataframe tbody tr th:only-of-type {\n",
       "        vertical-align: middle;\n",
       "    }\n",
       "\n",
       "    .dataframe tbody tr th {\n",
       "        vertical-align: top;\n",
       "    }\n",
       "\n",
       "    .dataframe thead th {\n",
       "        text-align: right;\n",
       "    }\n",
       "</style>\n",
       "<table border=\"1\" class=\"dataframe\">\n",
       "  <thead>\n",
       "    <tr style=\"text-align: right;\">\n",
       "      <th></th>\n",
       "      <th>MS SubClass</th>\n",
       "      <th>Lot Frontage</th>\n",
       "      <th>Lot Area</th>\n",
       "      <th>Overall Qual</th>\n",
       "      <th>Overall Cond</th>\n",
       "      <th>Year Built</th>\n",
       "      <th>Year Remod/Add</th>\n",
       "      <th>Mas Vnr Area</th>\n",
       "      <th>BsmtFin SF 1</th>\n",
       "      <th>BsmtFin SF 2</th>\n",
       "      <th>...</th>\n",
       "      <th>Sale Type_New</th>\n",
       "      <th>Sale Type_Oth</th>\n",
       "      <th>Sale Type_VWD</th>\n",
       "      <th>Sale Type_WD</th>\n",
       "      <th>Sale Condition_Abnorml</th>\n",
       "      <th>Sale Condition_AdjLand</th>\n",
       "      <th>Sale Condition_Alloca</th>\n",
       "      <th>Sale Condition_Family</th>\n",
       "      <th>Sale Condition_Normal</th>\n",
       "      <th>Sale Condition_Partial</th>\n",
       "    </tr>\n",
       "  </thead>\n",
       "  <tbody>\n",
       "    <tr>\n",
       "      <th>0</th>\n",
       "      <td>3.044522</td>\n",
       "      <td>4.955827</td>\n",
       "      <td>10.366309</td>\n",
       "      <td>6</td>\n",
       "      <td>1.791759</td>\n",
       "      <td>7.581210</td>\n",
       "      <td>1960</td>\n",
       "      <td>4.727388</td>\n",
       "      <td>6.461468</td>\n",
       "      <td>0.000000</td>\n",
       "      <td>...</td>\n",
       "      <td>False</td>\n",
       "      <td>False</td>\n",
       "      <td>False</td>\n",
       "      <td>True</td>\n",
       "      <td>False</td>\n",
       "      <td>False</td>\n",
       "      <td>False</td>\n",
       "      <td>False</td>\n",
       "      <td>True</td>\n",
       "      <td>False</td>\n",
       "    </tr>\n",
       "    <tr>\n",
       "      <th>1</th>\n",
       "      <td>3.044522</td>\n",
       "      <td>4.394449</td>\n",
       "      <td>9.360741</td>\n",
       "      <td>5</td>\n",
       "      <td>1.945910</td>\n",
       "      <td>7.581720</td>\n",
       "      <td>1961</td>\n",
       "      <td>0.000000</td>\n",
       "      <td>6.150603</td>\n",
       "      <td>4.976734</td>\n",
       "      <td>...</td>\n",
       "      <td>False</td>\n",
       "      <td>False</td>\n",
       "      <td>False</td>\n",
       "      <td>True</td>\n",
       "      <td>False</td>\n",
       "      <td>False</td>\n",
       "      <td>False</td>\n",
       "      <td>False</td>\n",
       "      <td>True</td>\n",
       "      <td>False</td>\n",
       "    </tr>\n",
       "    <tr>\n",
       "      <th>2</th>\n",
       "      <td>3.044522</td>\n",
       "      <td>4.406719</td>\n",
       "      <td>9.565775</td>\n",
       "      <td>6</td>\n",
       "      <td>1.945910</td>\n",
       "      <td>7.580189</td>\n",
       "      <td>1958</td>\n",
       "      <td>4.691348</td>\n",
       "      <td>6.828712</td>\n",
       "      <td>0.000000</td>\n",
       "      <td>...</td>\n",
       "      <td>False</td>\n",
       "      <td>False</td>\n",
       "      <td>False</td>\n",
       "      <td>True</td>\n",
       "      <td>False</td>\n",
       "      <td>False</td>\n",
       "      <td>False</td>\n",
       "      <td>False</td>\n",
       "      <td>True</td>\n",
       "      <td>False</td>\n",
       "    </tr>\n",
       "    <tr>\n",
       "      <th>3</th>\n",
       "      <td>3.044522</td>\n",
       "      <td>4.543295</td>\n",
       "      <td>9.320181</td>\n",
       "      <td>7</td>\n",
       "      <td>1.791759</td>\n",
       "      <td>7.585281</td>\n",
       "      <td>1968</td>\n",
       "      <td>0.000000</td>\n",
       "      <td>6.971669</td>\n",
       "      <td>0.000000</td>\n",
       "      <td>...</td>\n",
       "      <td>False</td>\n",
       "      <td>False</td>\n",
       "      <td>False</td>\n",
       "      <td>True</td>\n",
       "      <td>False</td>\n",
       "      <td>False</td>\n",
       "      <td>False</td>\n",
       "      <td>False</td>\n",
       "      <td>True</td>\n",
       "      <td>False</td>\n",
       "    </tr>\n",
       "    <tr>\n",
       "      <th>4</th>\n",
       "      <td>4.110874</td>\n",
       "      <td>4.317488</td>\n",
       "      <td>9.534668</td>\n",
       "      <td>5</td>\n",
       "      <td>1.791759</td>\n",
       "      <td>7.599902</td>\n",
       "      <td>1998</td>\n",
       "      <td>0.000000</td>\n",
       "      <td>6.674561</td>\n",
       "      <td>0.000000</td>\n",
       "      <td>...</td>\n",
       "      <td>False</td>\n",
       "      <td>False</td>\n",
       "      <td>False</td>\n",
       "      <td>True</td>\n",
       "      <td>False</td>\n",
       "      <td>False</td>\n",
       "      <td>False</td>\n",
       "      <td>False</td>\n",
       "      <td>True</td>\n",
       "      <td>False</td>\n",
       "    </tr>\n",
       "    <tr>\n",
       "      <th>...</th>\n",
       "      <td>...</td>\n",
       "      <td>...</td>\n",
       "      <td>...</td>\n",
       "      <td>...</td>\n",
       "      <td>...</td>\n",
       "      <td>...</td>\n",
       "      <td>...</td>\n",
       "      <td>...</td>\n",
       "      <td>...</td>\n",
       "      <td>...</td>\n",
       "      <td>...</td>\n",
       "      <td>...</td>\n",
       "      <td>...</td>\n",
       "      <td>...</td>\n",
       "      <td>...</td>\n",
       "      <td>...</td>\n",
       "      <td>...</td>\n",
       "      <td>...</td>\n",
       "      <td>...</td>\n",
       "      <td>...</td>\n",
       "      <td>...</td>\n",
       "    </tr>\n",
       "    <tr>\n",
       "      <th>2925</th>\n",
       "      <td>4.394449</td>\n",
       "      <td>3.637586</td>\n",
       "      <td>8.979417</td>\n",
       "      <td>6</td>\n",
       "      <td>1.945910</td>\n",
       "      <td>7.593374</td>\n",
       "      <td>1984</td>\n",
       "      <td>0.000000</td>\n",
       "      <td>6.709304</td>\n",
       "      <td>0.000000</td>\n",
       "      <td>...</td>\n",
       "      <td>False</td>\n",
       "      <td>False</td>\n",
       "      <td>False</td>\n",
       "      <td>True</td>\n",
       "      <td>False</td>\n",
       "      <td>False</td>\n",
       "      <td>False</td>\n",
       "      <td>False</td>\n",
       "      <td>True</td>\n",
       "      <td>False</td>\n",
       "    </tr>\n",
       "    <tr>\n",
       "      <th>2926</th>\n",
       "      <td>3.044522</td>\n",
       "      <td>4.251699</td>\n",
       "      <td>9.092232</td>\n",
       "      <td>5</td>\n",
       "      <td>1.791759</td>\n",
       "      <td>7.592870</td>\n",
       "      <td>1983</td>\n",
       "      <td>0.000000</td>\n",
       "      <td>5.710427</td>\n",
       "      <td>5.783825</td>\n",
       "      <td>...</td>\n",
       "      <td>False</td>\n",
       "      <td>False</td>\n",
       "      <td>False</td>\n",
       "      <td>True</td>\n",
       "      <td>False</td>\n",
       "      <td>False</td>\n",
       "      <td>False</td>\n",
       "      <td>False</td>\n",
       "      <td>True</td>\n",
       "      <td>False</td>\n",
       "    </tr>\n",
       "    <tr>\n",
       "      <th>2927</th>\n",
       "      <td>4.454347</td>\n",
       "      <td>4.143135</td>\n",
       "      <td>9.253591</td>\n",
       "      <td>5</td>\n",
       "      <td>1.791759</td>\n",
       "      <td>7.597396</td>\n",
       "      <td>1992</td>\n",
       "      <td>0.000000</td>\n",
       "      <td>5.823046</td>\n",
       "      <td>0.000000</td>\n",
       "      <td>...</td>\n",
       "      <td>False</td>\n",
       "      <td>False</td>\n",
       "      <td>False</td>\n",
       "      <td>True</td>\n",
       "      <td>False</td>\n",
       "      <td>False</td>\n",
       "      <td>False</td>\n",
       "      <td>False</td>\n",
       "      <td>True</td>\n",
       "      <td>False</td>\n",
       "    </tr>\n",
       "    <tr>\n",
       "      <th>2928</th>\n",
       "      <td>3.044522</td>\n",
       "      <td>4.356709</td>\n",
       "      <td>9.211440</td>\n",
       "      <td>5</td>\n",
       "      <td>1.791759</td>\n",
       "      <td>7.588324</td>\n",
       "      <td>1975</td>\n",
       "      <td>0.000000</td>\n",
       "      <td>6.977281</td>\n",
       "      <td>4.820282</td>\n",
       "      <td>...</td>\n",
       "      <td>False</td>\n",
       "      <td>False</td>\n",
       "      <td>False</td>\n",
       "      <td>True</td>\n",
       "      <td>False</td>\n",
       "      <td>False</td>\n",
       "      <td>False</td>\n",
       "      <td>False</td>\n",
       "      <td>True</td>\n",
       "      <td>False</td>\n",
       "    </tr>\n",
       "    <tr>\n",
       "      <th>2929</th>\n",
       "      <td>4.110874</td>\n",
       "      <td>4.317488</td>\n",
       "      <td>9.172431</td>\n",
       "      <td>7</td>\n",
       "      <td>1.791759</td>\n",
       "      <td>7.597898</td>\n",
       "      <td>1994</td>\n",
       "      <td>4.553877</td>\n",
       "      <td>6.632002</td>\n",
       "      <td>0.000000</td>\n",
       "      <td>...</td>\n",
       "      <td>False</td>\n",
       "      <td>False</td>\n",
       "      <td>False</td>\n",
       "      <td>True</td>\n",
       "      <td>False</td>\n",
       "      <td>False</td>\n",
       "      <td>False</td>\n",
       "      <td>False</td>\n",
       "      <td>True</td>\n",
       "      <td>False</td>\n",
       "    </tr>\n",
       "  </tbody>\n",
       "</table>\n",
       "<p>2930 rows × 279 columns</p>\n",
       "</div>"
      ],
      "text/plain": [
       "      MS SubClass  Lot Frontage   Lot Area  Overall Qual  Overall Cond  \\\n",
       "0        3.044522      4.955827  10.366309             6      1.791759   \n",
       "1        3.044522      4.394449   9.360741             5      1.945910   \n",
       "2        3.044522      4.406719   9.565775             6      1.945910   \n",
       "3        3.044522      4.543295   9.320181             7      1.791759   \n",
       "4        4.110874      4.317488   9.534668             5      1.791759   \n",
       "...           ...           ...        ...           ...           ...   \n",
       "2925     4.394449      3.637586   8.979417             6      1.945910   \n",
       "2926     3.044522      4.251699   9.092232             5      1.791759   \n",
       "2927     4.454347      4.143135   9.253591             5      1.791759   \n",
       "2928     3.044522      4.356709   9.211440             5      1.791759   \n",
       "2929     4.110874      4.317488   9.172431             7      1.791759   \n",
       "\n",
       "      Year Built  Year Remod/Add  Mas Vnr Area  BsmtFin SF 1  BsmtFin SF 2  \\\n",
       "0       7.581210            1960      4.727388      6.461468      0.000000   \n",
       "1       7.581720            1961      0.000000      6.150603      4.976734   \n",
       "2       7.580189            1958      4.691348      6.828712      0.000000   \n",
       "3       7.585281            1968      0.000000      6.971669      0.000000   \n",
       "4       7.599902            1998      0.000000      6.674561      0.000000   \n",
       "...          ...             ...           ...           ...           ...   \n",
       "2925    7.593374            1984      0.000000      6.709304      0.000000   \n",
       "2926    7.592870            1983      0.000000      5.710427      5.783825   \n",
       "2927    7.597396            1992      0.000000      5.823046      0.000000   \n",
       "2928    7.588324            1975      0.000000      6.977281      4.820282   \n",
       "2929    7.597898            1994      4.553877      6.632002      0.000000   \n",
       "\n",
       "      ...  Sale Type_New  Sale Type_Oth  Sale Type_VWD  Sale Type_WD   \\\n",
       "0     ...          False          False          False           True   \n",
       "1     ...          False          False          False           True   \n",
       "2     ...          False          False          False           True   \n",
       "3     ...          False          False          False           True   \n",
       "4     ...          False          False          False           True   \n",
       "...   ...            ...            ...            ...            ...   \n",
       "2925  ...          False          False          False           True   \n",
       "2926  ...          False          False          False           True   \n",
       "2927  ...          False          False          False           True   \n",
       "2928  ...          False          False          False           True   \n",
       "2929  ...          False          False          False           True   \n",
       "\n",
       "      Sale Condition_Abnorml  Sale Condition_AdjLand  Sale Condition_Alloca  \\\n",
       "0                      False                   False                  False   \n",
       "1                      False                   False                  False   \n",
       "2                      False                   False                  False   \n",
       "3                      False                   False                  False   \n",
       "4                      False                   False                  False   \n",
       "...                      ...                     ...                    ...   \n",
       "2925                   False                   False                  False   \n",
       "2926                   False                   False                  False   \n",
       "2927                   False                   False                  False   \n",
       "2928                   False                   False                  False   \n",
       "2929                   False                   False                  False   \n",
       "\n",
       "      Sale Condition_Family  Sale Condition_Normal  Sale Condition_Partial  \n",
       "0                     False                   True                   False  \n",
       "1                     False                   True                   False  \n",
       "2                     False                   True                   False  \n",
       "3                     False                   True                   False  \n",
       "4                     False                   True                   False  \n",
       "...                     ...                    ...                     ...  \n",
       "2925                  False                   True                   False  \n",
       "2926                  False                   True                   False  \n",
       "2927                  False                   True                   False  \n",
       "2928                  False                   True                   False  \n",
       "2929                  False                   True                   False  \n",
       "\n",
       "[2930 rows x 279 columns]"
      ]
     },
     "execution_count": 3,
     "metadata": {},
     "output_type": "execute_result"
    }
   ],
   "source": [
    "data_fin_imprt"
   ]
  },
  {
   "cell_type": "code",
   "execution_count": 4,
   "metadata": {
    "executionInfo": {
     "elapsed": 3,
     "status": "ok",
     "timestamp": 1737916188948,
     "user": {
      "displayName": "Amiera Masheetah Binti Irwan Rizalman",
      "userId": "17710920489463743070"
     },
     "user_tz": 300
    },
    "id": "GcDj0IfS27B_"
   },
   "outputs": [],
   "source": [
    "\n",
    "x=data_fin_imprt.drop('SalePrice',axis=1)\n",
    "y=data_fin_imprt['SalePrice']\n",
    "x_train, x_test, y_train, y_test = train_test_split(x, y, test_size=0.2, random_state=42)\n"
   ]
  },
  {
   "cell_type": "code",
   "execution_count": 5,
   "metadata": {
    "executionInfo": {
     "elapsed": 1386,
     "status": "ok",
     "timestamp": 1737916190331,
     "user": {
      "displayName": "Amiera Masheetah Binti Irwan Rizalman",
      "userId": "17710920489463743070"
     },
     "user_tz": 300
    },
    "id": "RJST7FZm27CA"
   },
   "outputs": [],
   "source": [
    "\n",
    "lin_mod=LinearRegression()\n",
    "lin_mod.fit(x_train,y_train)\n",
    "lin_pred = lin_mod.predict(x_test)"
   ]
  },
  {
   "cell_type": "code",
   "execution_count": 6,
   "metadata": {
    "colab": {
     "base_uri": "https://localhost:8080/"
    },
    "executionInfo": {
     "elapsed": 5485,
     "status": "ok",
     "timestamp": 1737916195813,
     "user": {
      "displayName": "Amiera Masheetah Binti Irwan Rizalman",
      "userId": "17710920489463743070"
     },
     "user_tz": 300
    },
    "id": "Io6LlrfJ27CA",
    "outputId": "5ad76d7d-6d10-417d-a9f5-25f74f30d4f5"
   },
   "outputs": [
    {
     "name": "stdout",
     "output_type": "stream",
     "text": [
      "Linear Regression Model Score  :  0.935\n",
      "R Sq. Value :  0.91\n",
      "Adjusted R Sq. Value is :  0.899\n",
      "Mean Square Error is :  0.017\n",
      "Root Mean Square Error is :  0.13\n",
      "Mean Absoulue Error is :  0.075\n"
     ]
    },
    {
     "name": "stdout",
     "output_type": "stream",
     "text": [
      "Accuracy : 87.54 %\n"
     ]
    }
   ],
   "source": [
    "lin_mod_sc=lin_mod.score(x_train,y_train)\n",
    "print('Linear Regression Model Score  : ',round(lin_mod_sc,3))\n",
    "r2=r2_score(y_test,lin_pred)# computing and displaying the R.Sq of the model\n",
    "print('R Sq. Value : ',round(r2,2))\n",
    "lin_adj_r2 = 1 - (1-r2) * (len(y)-1)/(len(y)-x.shape[1]-1)\n",
    "print('Adjusted R Sq. Value is : ', round(lin_adj_r2,3))\n",
    "mean_sq=mean_squared_error(y_test,lin_pred)# computing and displaying the Mean square error of the model\n",
    "print('Mean Square Error is : ', round(mean_sq,3))\n",
    "#lin_rmse=mean_squared_error(y_test,lin_pred,squared = False)\n",
    "#print('Root Mean Square Error is : ', round(lin_rmse,3))\n",
    "lin_rmse = np.sqrt(mean_squared_error(y_test, lin_pred)) # Calculate RMSE using NumPy's sqrt function #add\n",
    "print('Root Mean Square Error is : ', round(lin_rmse, 3)) #add\n",
    "lin_mae=mean_absolute_error(y_test, lin_pred)\n",
    "print('Mean Absoulue Error is : ', round(lin_mae,3))\n",
    "scores_cvs = cross_val_score(lin_mod, x, y,scoring='r2', cv=5)\n",
    "print(\"Accuracy :\",round(scores_cvs.mean()*100,2),\"%\")"
   ]
  },
  {
   "cell_type": "code",
   "execution_count": 7,
   "metadata": {
    "colab": {
     "base_uri": "https://localhost:8080/",
     "height": 455
    },
    "executionInfo": {
     "elapsed": 1479,
     "status": "ok",
     "timestamp": 1737916197289,
     "user": {
      "displayName": "Amiera Masheetah Binti Irwan Rizalman",
      "userId": "17710920489463743070"
     },
     "user_tz": 300
    },
    "id": "_Fr8lwjG27CA",
    "outputId": "04bf227f-b6d0-4cc7-fbc7-88e09f5866ad"
   },
   "outputs": [
    {
     "data": {
      "image/png": "[encoded data removed]",
      "text/plain": [
       "<Figure size 640x480 with 1 Axes>"
      ]
     },
     "metadata": {},
     "output_type": "display_data"
    }
   ],
   "source": [
    "Actual_Price=np.expm1(y_test)\n",
    "Predicted_Price=np.expm1(lin_pred)\n",
    "plt.scatter(Actual_Price, Predicted_Price, c='crimson')\n",
    "p1 = max(max(Predicted_Price), max(Actual_Price))\n",
    "p2 = min(min(Predicted_Price), min(Actual_Price))\n",
    "plt.plot([p1, p2], [p1, p2], 'b-')\n",
    "plt.xlabel('Actual Values', fontsize=15)\n",
    "plt.ylabel('Predicted Values', fontsize=15)\n",
    "plt.axis('equal')\n",
    "plt.show()"
   ]
  },
  {
   "cell_type": "code",
   "execution_count": 8,
   "metadata": {
    "colab": {
     "base_uri": "https://localhost:8080/",
     "height": 640
    },
    "executionInfo": {
     "elapsed": 1392,
     "status": "ok",
     "timestamp": 1737916198677,
     "user": {
      "displayName": "Amiera Masheetah Binti Irwan Rizalman",
      "userId": "17710920489463743070"
     },
     "user_tz": 300
    },
    "id": "9_WRMwmZ27CB",
    "outputId": "7913ebbe-2882-4726-c6ef-07f23f970e11"
   },
   "outputs": [
    {
     "name": "stderr",
     "output_type": "stream",
     "text": [
      "/tmp/ipykernel_7687/2864295386.py:1: UserWarning: \n",
      "\n",
      "`distplot` is a deprecated function and will be removed in seaborn v0.14.0.\n",
      "\n",
      "Please adapt your code to use either `displot` (a figure-level function with\n",
      "similar flexibility) or `histplot` (an axes-level function for histograms).\n",
      "\n",
      "For a guide to updating your code to use the new functions, please see\n",
      "https://gist.github.com/mwaskom/de44147ed2974457ad6372750bbe5751\n",
      "\n",
      "  sb.distplot((y_test-lin_pred),bins=100);\n"
     ]
    },
    {
     "data": {
      "image/png": "[encoded data removed]",
      "text/plain": [
       "<Figure size 640x480 with 1 Axes>"
      ]
     },
     "metadata": {},
     "output_type": "display_data"
    }
   ],
   "source": [
    "sb.distplot((y_test-lin_pred),bins=100);"
   ]
  },
  {
   "cell_type": "code",
   "execution_count": 9,
   "metadata": {
    "executionInfo": {
     "elapsed": 6,
     "status": "ok",
     "timestamp": 1737916198677,
     "user": {
      "displayName": "Amiera Masheetah Binti Irwan Rizalman",
      "userId": "17710920489463743070"
     },
     "user_tz": 300
    },
    "id": "G7Z7vbHy27CB"
   },
   "outputs": [],
   "source": [
    "parameters ={'fit_intercept':[True,False], 'positive':[True,False], 'copy_X':[True, False]}"
   ]
  },
  {
   "cell_type": "code",
   "execution_count": 10,
   "metadata": {
    "colab": {
     "base_uri": "https://localhost:8080/"
    },
    "executionInfo": {
     "elapsed": 26876,
     "status": "ok",
     "timestamp": 1737916225548,
     "user": {
      "displayName": "Amiera Masheetah Binti Irwan Rizalman",
      "userId": "17710920489463743070"
     },
     "user_tz": 300
    },
    "id": "f6N8cPP827CB",
    "outputId": "11123074-d80d-4c85-bc3b-7672bd4fe4a3"
   },
   "outputs": [
    {
     "data": {
      "text/plain": [
       "{'copy_X': True, 'fit_intercept': True, 'positive': False}"
      ]
     },
     "execution_count": 10,
     "metadata": {},
     "output_type": "execute_result"
    }
   ],
   "source": [
    "G_CV_lin = GridSearchCV(estimator=lin_mod, param_grid=parameters, cv= 5) #  using grid search method to optimise model with hyperparameter tuning\n",
    "\n",
    "G_CV_lin.fit(x_train, y_train)# fitting the model\n",
    "G_CV_lin.best_params_ # displaying optimised parameters for optimal tuning of model"
   ]
  },
  {
   "cell_type": "markdown",
   "metadata": {
    "id": "E8hRCPh-27CC"
   },
   "source": [
    "'copy_X': True, 'fit_intercept': True, 'normalize': False"
   ]
  },
  {
   "cell_type": "code",
   "execution_count": 11,
   "metadata": {
    "colab": {
     "base_uri": "https://localhost:8080/"
    },
    "executionInfo": {
     "elapsed": 10633,
     "status": "ok",
     "timestamp": 1737916236176,
     "user": {
      "displayName": "Amiera Masheetah Binti Irwan Rizalman",
      "userId": "17710920489463743070"
     },
     "user_tz": 300
    },
    "id": "dfx6CdRq27CC",
    "outputId": "752107f8-2954-4bae-c6e8-4e558ef413b8"
   },
   "outputs": [
    {
     "data": {
      "text/plain": [
       "{'copy_X': True, 'fit_intercept': True, 'positive': False}"
      ]
     },
     "execution_count": 11,
     "metadata": {},
     "output_type": "execute_result"
    }
   ],
   "source": [
    "parameters = {'fit_intercept': [True, False], 'copy_X': [True, False], 'positive': [True, False]}  # Remove 'normalize' and add 'positive' if needed for version compatibility\n",
    "# parameters ={'fit_intercept':[True,False], 'copy_X':[True, False]}  # Or remove 'normalize' and keep other params as is\n",
    "\n",
    "\n",
    "G_CV_lin = GridSearchCV(estimator=lin_mod, param_grid=parameters, cv=5)  # using grid search method to optimise model with hyperparameter tuning\n",
    "\n",
    "G_CV_lin.fit(x_train, y_train)  # fitting the model\n",
    "G_CV_lin.best_params_  # displaying optimised parameters for optimal tuning of model"
   ]
  },
  {
   "cell_type": "code",
   "execution_count": 12,
   "metadata": {
    "colab": {
     "base_uri": "https://localhost:8080/"
    },
    "executionInfo": {
     "elapsed": 2463,
     "status": "ok",
     "timestamp": 1737916238634,
     "user": {
      "displayName": "Amiera Masheetah Binti Irwan Rizalman",
      "userId": "17710920489463743070"
     },
     "user_tz": 300
    },
    "id": "RkjoQkzi27CC",
    "outputId": "d155e9e0-92fc-4449-9b9f-486ee49d54c0"
   },
   "outputs": [
    {
     "name": "stdout",
     "output_type": "stream",
     "text": [
      "Linear Regression Model Score  :  0.935\n",
      "R Sq. Value :  0.91\n",
      "Adjusted R Sq. Value is :  0.899\n",
      "Mean Square Error is :  0.017\n",
      "Root Mean Square Error is :  0.13\n",
      "Mean Absoulue Error is :  0.075\n",
      "Accuracy : 87.54 %\n"
     ]
    }
   ],
   "source": [
    "lin_mod_sc=lin_mod.score(x_train,y_train)#best '1'\n",
    "print('Linear Regression Model Score  : ',round(lin_mod_sc,3))\n",
    "r2=r2_score(y_test,lin_pred)# computing and displaying the R.Sq of the model, best 'above0.9'\n",
    "print('R Sq. Value : ',round(r2,2))\n",
    "lin_adj_r2 = 1 - (1-r2) * (len(y)-1)/(len(y)-x.shape[1]-1)#0.8+\n",
    "print('Adjusted R Sq. Value is : ', round(lin_adj_r2,3))\n",
    "mean_sq=mean_squared_error(y_test,lin_pred)# computing and displaying the Mean square error of the model, best 0\n",
    "print('Mean Square Error is : ', round(mean_sq,3))\n",
    "#lin_rmse=mean_squared_error(y_test,lin_pred,squared = False)#best 0\n",
    "#print('Root Mean Square Error is : ', round(lin_rmse,3))\n",
    "lin_rmse = np.sqrt(mean_squared_error(y_test, lin_pred)) # Calculate RMSE using NumPy's sqrt function\n",
    "print('Root Mean Square Error is : ', round(lin_rmse,3))\n",
    "lin_mae=mean_absolute_error(y_test, lin_pred)#best 0\n",
    "print('Mean Absoulue Error is : ', round(lin_mae,3))\n",
    "scores_cvs = cross_val_score(lin_mod, x, y,scoring='r2', cv=5) #best 100\n",
    "print(\"Accuracy :\",round(scores_cvs.mean()*100,2),\"%\") # Accuracy of moadel based on parameter supplied by GridsearchCV"
   ]
  },
  {
   "cell_type": "code",
   "execution_count": 13,
   "metadata": {
    "colab": {
     "base_uri": "https://localhost:8080/",
     "height": 455
    },
    "executionInfo": {
     "elapsed": 358,
     "status": "ok",
     "timestamp": 1737916238989,
     "user": {
      "displayName": "Amiera Masheetah Binti Irwan Rizalman",
      "userId": "17710920489463743070"
     },
     "user_tz": 300
    },
    "id": "WgD52qT027CD",
    "outputId": "0a83f91c-dff1-46aa-8f90-bff177ca43ff"
   },
   "outputs": [
    {
     "data": {
      "image/png": "[encoded data removed]",
      "text/plain": [
       "<Figure size 640x480 with 1 Axes>"
      ]
     },
     "metadata": {},
     "output_type": "display_data"
    }
   ],
   "source": [
    "Actual_Price=np.expm1(y_test)\n",
    "Predicted_Price=np.expm1(lin_pred)\n",
    "plt.scatter(Actual_Price, Predicted_Price, c='crimson')\n",
    "p1 = max(max(Predicted_Price), max(Actual_Price))\n",
    "p2 = min(min(Predicted_Price), min(Actual_Price))\n",
    "plt.plot([p1, p2], [p1, p2], 'b-')\n",
    "plt.xlabel('Actual Values', fontsize=15)\n",
    "plt.ylabel('Predicted Values', fontsize=15)\n",
    "plt.axis('equal')\n",
    "plt.show()"
   ]
  },
  {
   "cell_type": "code",
   "execution_count": 14,
   "metadata": {
    "colab": {
     "base_uri": "https://localhost:8080/",
     "height": 640
    },
    "executionInfo": {
     "elapsed": 513,
     "status": "ok",
     "timestamp": 1737916239499,
     "user": {
      "displayName": "Amiera Masheetah Binti Irwan Rizalman",
      "userId": "17710920489463743070"
     },
     "user_tz": 300
    },
    "id": "iusfUTXP27CD",
    "outputId": "37646957-9456-4196-d96a-f4360e4adb26"
   },
   "outputs": [
    {
     "name": "stderr",
     "output_type": "stream",
     "text": [
      "/tmp/ipykernel_7687/2864295386.py:1: UserWarning: \n",
      "\n",
      "`distplot` is a deprecated function and will be removed in seaborn v0.14.0.\n",
      "\n",
      "Please adapt your code to use either `displot` (a figure-level function with\n",
      "similar flexibility) or `histplot` (an axes-level function for histograms).\n",
      "\n",
      "For a guide to updating your code to use the new functions, please see\n",
      "https://gist.github.com/mwaskom/de44147ed2974457ad6372750bbe5751\n",
      "\n",
      "  sb.distplot((y_test-lin_pred),bins=100);\n"
     ]
    },
    {
     "data": {
      "image/png": "[encoded data removed]",
      "text/plain": [
       "<Figure size 640x480 with 1 Axes>"
      ]
     },
     "metadata": {},
     "output_type": "display_data"
    }
   ],
   "source": [
    "sb.distplot((y_test-lin_pred),bins=100);"
   ]
  }
 ],
 "metadata": {
  "colab": {
   "provenance": []
  },
  "kernelspec": {
   "display_name": "Python 3",
   "language": "python",
   "name": "python3"
  },
  "language_info": {
   "codemirror_mode": {
    "name": "ipython",
    "version": 3
   },
   "file_extension": ".py",
   "mimetype": "text/x-python",
   "name": "python",
   "nbconvert_exporter": "python",
   "pygments_lexer": "ipython3",
   "version": "3.12.1"
  },
  "orig_nbformat": 4
 },
 "nbformat": 4,
 "nbformat_minor": 0
}
